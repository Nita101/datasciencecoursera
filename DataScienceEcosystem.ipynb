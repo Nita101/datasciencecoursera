{
 "cells": [
  {
   "cell_type": "markdown",
   "id": "20f0a649-cda9-4c8a-9874-2dd9630ac814",
   "metadata": {},
   "source": [
    "# H1: Data Science Tools and Ecosystem"
   ]
  },
  {
   "cell_type": "markdown",
   "id": "c284a826-167c-4b50-b94a-88b4ff437da4",
   "metadata": {},
   "source": [
    "In this notebook, Data Science Tools and Ecosystem are summarized."
   ]
  },
  {
   "cell_type": "markdown",
   "id": "60fbe9ff-ac2e-4c2e-8ce0-e69a064f5be6",
   "metadata": {},
   "source": [
    "**Objectives:**\n",
    "- Create a Jupyter Notebook with markdown and code cells\n",
    "- List examples of languages, libraries and tools used in Data Science\n",
    "- Share  your Jupyter Notebook publicly on GitHub\n",
    "- Evaluate notebooks submitted by your peers using the provided rubric\n",
    "- Demonstrate proficiency in Data Science toolkit knowledgeedge"
   ]
  },
  {
   "cell_type": "markdown",
   "id": "062542ba-8951-4576-a19a-42d871a5f171",
   "metadata": {},
   "source": [
    "Some of the popular langugages that Data Scientists use are:\n",
    "1. Python\n",
    "2. Java Script\n",
    "3. R\n",
    "4. SQL"
   ]
  },
  {
   "cell_type": "markdown",
   "id": "931cd8dd-e02a-4813-a153-eae0073308de",
   "metadata": {},
   "source": [
    "Some of the commonly used libraries used by Data Scientists include:\n",
    "1. Pandas\n",
    "2. NumPy\n",
    "3. ggplot2\n",
    "4. dplyr"
   ]
  },
  {
   "cell_type": "markdown",
   "id": "d05334a9-6e38-4729-a6ca-7a6da5965009",
   "metadata": {},
   "source": [
    "| Data Science Tools |\n",
    " --------------------\n",
    "|   Jupyter Notebook |\n",
    "|       JupyterLab   |\n",
    "|         GitGub     |"
   ]
  },
  {
   "cell_type": "markdown",
   "id": "a2138828-2a9c-4138-a843-7fbf9e381c14",
   "metadata": {},
   "source": [
    "### H3: Below are a few examples of evaluating arithmetic expressions in Python. "
   ]
  },
  {
   "cell_type": "code",
   "execution_count": 37,
   "id": "2b3a94d5-ffd1-44c0-8cd7-95f477b843d3",
   "metadata": {},
   "outputs": [
    {
     "data": {
      "text/plain": [
       "17"
      ]
     },
     "execution_count": 37,
     "metadata": {},
     "output_type": "execute_result"
    }
   ],
   "source": [
    "#This a simple arithmetic expression to mutiply then add integers\n",
    "(3*4)+5"
   ]
  },
  {
   "cell_type": "code",
   "execution_count": 40,
   "id": "2d7a1845-4ac7-431d-bde3-67f730c54ed6",
   "metadata": {},
   "outputs": [
    {
     "data": {
      "text/plain": [
       "3.3333333333333335"
      ]
     },
     "execution_count": 40,
     "metadata": {},
     "output_type": "execute_result"
    }
   ],
   "source": [
    "#This will convert 200 minutes to hours by diving by 60\n",
    "200 / 60"
   ]
  },
  {
   "cell_type": "markdown",
   "id": "a0f89127-66d7-4314-8840-d963b80e1a11",
   "metadata": {},
   "source": [
    "## H2: Author\n",
    "Juanita Olude"
   ]
  },
  {
   "cell_type": "code",
   "execution_count": null,
   "id": "48a14a8a-f54f-4d99-8932-362cb72e76a1",
   "metadata": {},
   "outputs": [],
   "source": []
  }
 ],
 "metadata": {
  "kernelspec": {
   "display_name": "Python 3 (ipykernel)",
   "language": "python",
   "name": "python3"
  },
  "language_info": {
   "codemirror_mode": {
    "name": "ipython",
    "version": 3
   },
   "file_extension": ".py",
   "mimetype": "text/x-python",
   "name": "python",
   "nbconvert_exporter": "python",
   "pygments_lexer": "ipython3",
   "version": "3.12.4"
  }
 },
 "nbformat": 4,
 "nbformat_minor": 5
}
